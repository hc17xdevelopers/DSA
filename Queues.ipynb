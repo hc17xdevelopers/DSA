{
 "cells": [
  {
   "cell_type": "markdown",
   "metadata": {},
   "source": [
    "# Queue"
   ]
  },
  {
   "cell_type": "markdown",
   "metadata": {},
   "source": [
    "- Just like a normal queue this ds follows fifo method <br>\n",
    "\n",
    "- which elements come first, go out first <br>\n"
   ]
  },
  {
   "cell_type": "markdown",
   "metadata": {},
   "source": [
    "eg., printing documents in printers"
   ]
  },
  {
   "cell_type": "markdown",
   "metadata": {},
   "source": [
    "Operations: <br>\n",
    "    \n",
    "    - Create queue\n",
    "    - Enqueue\n",
    "    - Dequeue\n",
    "    - peek\n",
    "    - isEmpty\n",
    "    - isFull\n",
    "    - deleteQueue"
   ]
  },
  {
   "cell_type": "markdown",
   "metadata": {},
   "source": [
    "### Create queue using list no capacity"
   ]
  },
  {
   "cell_type": "code",
   "execution_count": 1,
   "metadata": {},
   "outputs": [],
   "source": [
    "class Queue:\n",
    "    def __init__(self):\n",
    "        self.items = []\n",
    "        #tc =  O 1\n",
    "        #sc = O 1\n",
    "    \n",
    "    #empty method\n",
    "    def isempty(self):\n",
    "        if self.items == []:\n",
    "            return True\n",
    "        else:\n",
    "            return False\n",
    "        \n",
    "        # sc= O(1)\n",
    "        #tc = O(1)\n",
    "    #append method\n",
    "    \n",
    "    def enqueue(self, val):\n",
    "        self.items.append(value)\n",
    "        \n",
    "        #sc = 0(1)\n",
    "        #tc = O(n)\n",
    "        \n",
    "    #remove / dequeue method:\n",
    "    def dequeue(self):\n",
    "        #check empty\n",
    "        if self.isempty():\n",
    "            return \"No element in queue\"\n",
    "        else:\n",
    "            return self.items.pop(0)   #it will return 1st element\n",
    "    #peek method\n",
    "    \n",
    "        #sc = O(n)\n",
    "        #tc = O(1)\n",
    "    \n",
    "    def peek(self):\n",
    "        #returns first element\n",
    "        if self.isempty():\n",
    "            return \"No element \"\n",
    "        else:\n",
    "            return self.items[0]\n",
    "        \n",
    "        #sc = O(1)\n",
    "        #tc = O(1)\n",
    "        \n",
    "    #delete all\n",
    "    def delete(self):\n",
    "        self.items= None\n",
    "        \n",
    "        #tc = O(1)\n",
    "        #sc = O(1)\n",
    "        \n",
    "    \n",
    "        \n",
    "    "
   ]
  },
  {
   "cell_type": "markdown",
   "metadata": {},
   "source": [
    "#### Circular queue with fixed size/capacity"
   ]
  },
  {
   "cell_type": "raw",
   "metadata": {},
   "source": [
    "S,T pointers movement as we enqueue elements\n",
    "    \n",
    "    \n",
    "    \n",
    "    --------------------------------\n",
    " | 5  |    |    |    |    |    |\n",
    " --------------------------------\n",
    "  S,T\n",
    "    \n",
    "  ------------------------------\n",
    " |  5 |  6  |    |    |    |    |\n",
    " ---------------------------------\n",
    "   S    T\n",
    "  --------------------------------\n",
    " | 5  | 6   | 8   |    |    |    |\n",
    " ----------------------------------\n",
    "   S          T \n",
    "  ---------------------------------\n",
    " | 5  |  6  | 8   | 3   |    |    |\n",
    " -----------------------------------\n",
    "   S                T\n",
    "\n",
    "  ----------------------------------\n",
    " | 5 | 6   | 8   | 3   | 1   |    |\n",
    " -----------------------------------\n",
    "   S                     T\n",
    "    \n",
    "  ----------------------------------\n",
    " |  5 |  6  | 8   | 3   | 1   |  4  | \n",
    " -----------------------------------\n",
    "   S                            T"
   ]
  },
  {
   "cell_type": "raw",
   "metadata": {},
   "source": [
    "S,T movement as we dequeue elements\n",
    "\n",
    "  ----------------------------------\n",
    " |  5 |  6  | 8   | 3   | 1   |  4  | \n",
    " -----------------------------------\n",
    "   S                            T\n",
    "\n",
    "  ----------------------------------\n",
    " |   |  6  | 8   | 3   | 1   |  4  | \n",
    " -----------------------------------\n",
    "        S                       T\n",
    "\n",
    "\n",
    "  ----------------------------------\n",
    " |    |     | 8   | 3   | 1   |  4  | \n",
    " -----------------------------------\n",
    "              S                 T\n",
    "\n",
    "\n",
    "  ----------------------------------\n",
    " |    |     |    | 3   | 1   |  4  | \n",
    " -----------------------------------\n",
    "                    S           T\n",
    "\n",
    "\n",
    "\n",
    "  ----------------------------------\n",
    " |    |     |    |    | 1   |  4  | \n",
    " -----------------------------------\n",
    "                         S      T\n",
    "\n",
    "\n",
    "  ----------------------------------\n",
    " |    |     |    |    |    |  4  | \n",
    " -----------------------------------\n",
    "                               s T\n",
    "\n",
    "\n"
   ]
  },
  {
   "cell_type": "code",
   "execution_count": 2,
   "metadata": {},
   "outputs": [],
   "source": [
    "#while enqueing the top moves along the new added element \n",
    "# while dequeing the start moves to the next present element available"
   ]
  },
  {
   "cell_type": "markdown",
   "metadata": {},
   "source": [
    "#### Creating circle queue"
   ]
  },
  {
   "cell_type": "code",
   "execution_count": 3,
   "metadata": {},
   "outputs": [],
   "source": [
    "class Queue:\n",
    "    def __init__(self , maxSize):\n",
    "        self.items = maxSize*[None] #since we want all cells to have none initially\n",
    "        self.maxSize = maxSize\n",
    "        self.start= -1\n",
    "        self.top = -1\n",
    "\n",
    "\n",
    "    def isFull(self):\n",
    "        if self.top + 1 == self.start: #no blank space between s and t hence full\n",
    "            return True\n",
    "        elif self.start == 0 and self.top + 1== self.maxSize:\n",
    "            return True\n",
    "        else:\n",
    "            return False\n",
    "\n",
    "    def isEmpty(self):\n",
    "        if self.top == -1:\n",
    "            return True\n",
    "        else:\n",
    "            return False\n",
    "\n",
    "\n",
    "    def enqueue(self, value):\n",
    "        if self.top +1 == self.maxSize:   ##top points to last element\n",
    "            self.top = 0 \n",
    "            #top will go to the 0th index \n",
    "        else:\n",
    "            self.top += 1\n",
    "            if self.start == -1:\n",
    "                self.start = 0\n",
    "        self.items[self.top] = value\n",
    "\n",
    "\n",
    "    def dequeue(self):\n",
    "        if self.isEmpty():\n",
    "            return \"nothing to remove\"\n",
    "        else:\n",
    "            firstElement = self.items[self.start]\n",
    "            #if only one element is present and s and top both point to it:\n",
    "            if self.start == self.top:\n",
    "                self.start = -1\n",
    "                self.top = -1\n",
    "                \n",
    "            #start is at the last element then point it to 0\n",
    "            elif self.start  +1 == self.maxSize:\n",
    "                self.start = 0\n",
    "            else:\n",
    "                #increment start by one:\n",
    "                self.start +=1\n",
    "            #change the items of start to None\n",
    "            self.items[start] =None\n",
    "            return firstElement\n",
    "\n",
    "\n",
    "    def peek(self):\n",
    "        if self.isEmpty():\n",
    "            return \"no element in queue\"\n",
    "        else:\n",
    "            return self.items[self.start]\n",
    "            \n",
    "    def delete(self):\n",
    "        self.items = self.maxSize* [None]\n",
    "        self.top = -1\n",
    "        self.start = -1\n",
    "                \n",
    "                \n",
    "                \n",
    "                \n",
    "            \n",
    "    "
   ]
  },
  {
   "cell_type": "markdown",
   "metadata": {},
   "source": [
    "### Queue using linked list"
   ]
  },
  {
   "cell_type": "raw",
   "metadata": {},
   "source": [
    "Create head and tail and point them to null\n",
    "\n",
    "Enqueing :\n",
    "Create a node (1st element) and have head and tail pointed to it\n",
    "Now to add another node (2nd element) make the tail point to it\n",
    "New node will be added to end of linked list\n",
    "\n",
    "Dequeing:\n",
    "Remove first element from the linked list\n",
    "Hence destroy the link between head and first node and make link between head and 2nd node\n",
    "Thus 2nd node will become first node after dequeue operation\n",
    "\n"
   ]
  },
  {
   "cell_type": "markdown",
   "metadata": {},
   "source": [
    "##### operations"
   ]
  },
  {
   "cell_type": "code",
   "execution_count": 4,
   "metadata": {},
   "outputs": [],
   "source": [
    "class Node:\n",
    "    def __init__(self, value = None):\n",
    "        self.value = value\n",
    "        self.next = None\n",
    "    def __str__(self):\n",
    "        return str(self.value)\n",
    "        \n",
    "class LinkedList:\n",
    "    def __init__(self):\n",
    "        self.head = None\n",
    "        self.tail = None\n",
    "\n",
    "\n",
    "class Queue:\n",
    "    def __init__(self):\n",
    "        self.LinkedList = LinkedList()"
   ]
  },
  {
   "cell_type": "markdown",
   "metadata": {},
   "source": [
    "##### enqueue() method"
   ]
  },
  {
   "cell_type": "code",
   "execution_count": 5,
   "metadata": {},
   "outputs": [],
   "source": [
    "def enqueue(self, value):\n",
    "    newNode = Node(value)\n",
    "    if self.linkedList.head == None:\n",
    "        self.linkedList.head = newNode\n",
    "        self.linkedList.tail = newNode\n",
    "    else:\n",
    "        #already some node is present\n",
    "        self.linkedList.tail.next = newNode\n",
    "        self.linkedList.tail = newNode\n",
    "        \n",
    "        "
   ]
  },
  {
   "cell_type": "markdown",
   "metadata": {},
   "source": [
    "##### some other methods"
   ]
  },
  {
   "cell_type": "code",
   "execution_count": 6,
   "metadata": {},
   "outputs": [],
   "source": [
    "def isEmpty(self):\n",
    "    if self.linkedlist.head == None:\n",
    "        return True\n",
    "    else:\n",
    "        return False\n",
    "\n",
    "def dequeue(self):\n",
    "    if self.isEmpty():\n",
    "        return \"No node\"\n",
    "    else:\n",
    "        #n number of nodes exists:\n",
    "        temp = self.linkedlist.head\n",
    "        # if n = 1 i.e., it is the only node in the linked list:\n",
    "        if self.linkedlist.head == self.linkedlist.tail:\n",
    "            self.linkedlist.head = None\n",
    "            self.linkedlist.tail = None\n",
    "        else:\n",
    "            self.linkedlist.head = self.linkedlist.head.next\n",
    "        return temp\n",
    "\n",
    "\n",
    "def peek():\n",
    "    if self.isEmpty():\n",
    "        return \"no element\"\n",
    "    else:\n",
    "        return self.linkedlist.head\n",
    "\n",
    "\n",
    "def delete():\n",
    "    self.linkedlist.head = None\n",
    "    self.linkedlist.tail = None\n",
    "\n",
    "\n",
    "    "
   ]
  },
  {
   "cell_type": "markdown",
   "metadata": {},
   "source": [
    "### Python Queue Modules in Python"
   ]
  },
  {
   "cell_type": "markdown",
   "metadata": {},
   "source": [
    "#### COLLECTIONS MODULE"
   ]
  },
  {
   "cell_type": "code",
   "execution_count": 7,
   "metadata": {},
   "outputs": [
    {
     "name": "stdout",
     "output_type": "stream",
     "text": [
      "deque([1, 2, 3], maxlen=3)\n",
      "1\n",
      "deque([2, 3], maxlen=3)\n",
      "None\n"
     ]
    }
   ],
   "source": [
    "from collections import deque\n",
    "customQueue =  deque(maxlen = 3)\n",
    "\n",
    "customQueue.append(1)\n",
    "customQueue.append(2)\n",
    "customQueue.append(3)\n",
    "\n",
    "print(customQueue)\n",
    "\n",
    "print(customQueue.popleft())\n",
    "\n",
    "print(customQueue)\n",
    "\n",
    "print(customQueue.clear()) #return None since all elements are deleted"
   ]
  },
  {
   "cell_type": "markdown",
   "metadata": {},
   "source": [
    "##### Queue Module"
   ]
  },
  {
   "cell_type": "code",
   "execution_count": 8,
   "metadata": {},
   "outputs": [
    {
     "name": "stdout",
     "output_type": "stream",
     "text": [
      "0\n",
      "3\n",
      "True\n",
      "1\n"
     ]
    }
   ],
   "source": [
    "import queue as q\n",
    "\n",
    "customQueue = q.Queue(maxsize = 3)\n",
    "print(customQueue.qsize())\n",
    "\n",
    "customQueue.put(1)\n",
    "customQueue.put(2)\n",
    "customQueue.put(3)\n",
    "\n",
    "print(customQueue.qsize())\n",
    "\n",
    "print(customQueue.full()) #returns true if queue is full \n",
    "\n",
    "print(customQueue.get()) # returns first element of queue (dequeue)"
   ]
  },
  {
   "cell_type": "markdown",
   "metadata": {},
   "source": [
    "##### Multiprocessing Module"
   ]
  },
  {
   "cell_type": "code",
   "execution_count": 9,
   "metadata": {},
   "outputs": [
    {
     "name": "stdout",
     "output_type": "stream",
     "text": [
      "1\n"
     ]
    }
   ],
   "source": [
    "from multiprocessing import Queue\n",
    "\n",
    "customQueue = Queue(maxsize = 3)\n",
    "customQueue.put(1)\n",
    "print(customQueue.get())\n",
    "\n",
    "#not necessary that much"
   ]
  },
  {
   "cell_type": "markdown",
   "metadata": {},
   "source": [
    "### Problems"
   ]
  },
  {
   "cell_type": "markdown",
   "metadata": {},
   "source": [
    "#### Implementation of queues using stack"
   ]
  },
  {
   "cell_type": "code",
   "execution_count": 10,
   "metadata": {},
   "outputs": [],
   "source": [
    "class MyQueue:\n",
    "\n",
    "    def __init__(self):\n",
    "        self.stack = []\n",
    "        \n",
    "\n",
    "    def push(self, x: int) -> None:\n",
    "        self.stack.append(x)\n",
    "        \n",
    "        \n",
    "\n",
    "    def pop(self) -> int:\n",
    "        return self.stack.pop(0)\n",
    "        \n",
    "\n",
    "    def peek(self) -> int:\n",
    "        return self.stack[0]\n",
    "        \n",
    "\n",
    "    def empty(self) -> bool:\n",
    "        return len(self.stack) == 0\n",
    "        \n",
    "\n",
    "\n",
    "# Your MyQueue object will be instantiated and called as such:\n",
    "# obj = MyQueue()\n",
    "# obj.push(x)\n",
    "# param_2 = obj.pop()\n",
    "# param_3 = obj.peek()\n",
    "# param_4 = obj.empty()"
   ]
  },
  {
   "cell_type": "markdown",
   "metadata": {},
   "source": [
    "#### First unique character in a string"
   ]
  },
  {
   "cell_type": "code",
   "execution_count": 14,
   "metadata": {},
   "outputs": [],
   "source": [
    "class Solution:\n",
    "    def firstUniqChar(self, s: str) -> int:\n",
    "        ##eg s = leetcode\n",
    "        #output = 0 since l is the first non repeating character\n",
    "        from collections import deque\n",
    "        seenCharacters =  set()\n",
    "        characterQueue = deque()\n",
    "\n",
    "        for char in s:\n",
    "            if char not in seenCharacters:\n",
    "                characterQueue.append(char)\n",
    "                seenCharacters.add(char)\n",
    "    \n",
    "            else:\n",
    "                while characterQueue and characterQueue[0] in seenCharacters:\n",
    "                    characterQueue.popleft()\n",
    "                    \n",
    "        return characterQueue[0] if characterQueue else -1"
   ]
  },
  {
   "cell_type": "markdown",
   "metadata": {},
   "source": [
    "#### Number of students unable to each lunch"
   ]
  },
  {
   "cell_type": "code",
   "execution_count": 15,
   "metadata": {},
   "outputs": [],
   "source": [
    "#0 circular sandwiches\n",
    "# 1 square sandwiches\n",
    "# no of sandwiches == no of students"
   ]
  },
  {
   "cell_type": "raw",
   "metadata": {},
   "source": [
    "class Solution:\n",
    "    def countStudents(self, students: List[int], sandwiches: List[int]) -> int:\n",
    "        while(len(students)!=0):\n",
    "            if(sandwiches[0] not in students):\n",
    "                return len(students)\n",
    "            if(students[0] ==  sandwiches[0]):\n",
    "                students.pop(0)\n",
    "                sandwiches.pop(0)\n",
    "            else:\n",
    "                firstStudent=  students.pop(0)\n",
    "                students.append(firstStudent)\n",
    "        return len(students)"
   ]
  },
  {
   "cell_type": "markdown",
   "metadata": {},
   "source": [
    "#### People knowing secret"
   ]
  },
  {
   "cell_type": "code",
   "execution_count": null,
   "metadata": {},
   "outputs": [],
   "source": [
    "class Solution:\n",
    "    def peopleAwareOfSecret(self, n: int, delay: int, forget: int) -> int:\n",
    "\n",
    "        from collections import deque\n",
    "        q = deque()\n",
    "        noOfDays = 0\n",
    "\n",
    "        if d > n:\n",
    "            return 1\n",
    "        else:\n",
    "            q.append(1)\n",
    "            noOfDays +=1\n",
    "            \n",
    "        \n",
    "        \n",
    "\n",
    "\n",
    "\n",
    "        return len(q)"
   ]
  }
 ],
 "metadata": {
  "kernelspec": {
   "display_name": "Python 3 (ipykernel)",
   "language": "python",
   "name": "python3"
  },
  "language_info": {
   "codemirror_mode": {
    "name": "ipython",
    "version": 3
   },
   "file_extension": ".py",
   "mimetype": "text/x-python",
   "name": "python",
   "nbconvert_exporter": "python",
   "pygments_lexer": "ipython3",
   "version": "3.10.12"
  }
 },
 "nbformat": 4,
 "nbformat_minor": 4
}
